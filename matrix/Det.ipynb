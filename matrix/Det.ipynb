{
 "cells": [
  {
   "cell_type": "code",
   "execution_count": 1,
   "id": "188cfaa7",
   "metadata": {},
   "outputs": [],
   "source": [
    "import torch as t\n",
    "import torch.nn as nn\n",
    "import torch.optim as optim\n",
    "import numpy as np\n",
    "import matplotlib.pyplot as plt"
   ]
  },
  {
   "cell_type": "code",
   "execution_count": 33,
   "id": "9dca29c2",
   "metadata": {},
   "outputs": [],
   "source": [
    "class Net(nn.Module):\n",
    "    def __init__(self, N):\n",
    "        super(Net, self).__init__()\n",
    "        self.N = N\n",
    "        self.fc1 = nn.Linear(N*N, 64)\n",
    "        self.relu1 = nn.ReLU()\n",
    "        self.fc2 = nn.Linear(64, 64)\n",
    "        self.relu2 = nn.ReLU()\n",
    "        self.fc3 = nn.Linear(64, 64)\n",
    "        self.relu3 = nn.ReLU()\n",
    "        self.fc4 = nn.Linear(64, 1)\n",
    "        \n",
    "        \n",
    "    def forward(self, x: \"(B, N, N)\"):\n",
    "        B = x.shape[0]\n",
    "        x = x.reshape(B, self.N**2)\n",
    "        assert x.shape == (B, self.N**2)\n",
    "        x = self.fc1(x)\n",
    "        x = self.relu1(x)\n",
    "        x = self.fc2(x)\n",
    "        x = self.relu2(x)\n",
    "        x = self.fc3(x)\n",
    "        x = self.relu3(x)\n",
    "        x = self.fc4(x)\n",
    "        assert x.shape == (B, 1)\n",
    "        return x[:,0]"
   ]
  },
  {
   "cell_type": "code",
   "execution_count": 40,
   "id": "d64984f6",
   "metadata": {},
   "outputs": [],
   "source": [
    "def weights_init(model):\n",
    "    for m in model.modules():\n",
    "        if isinstance(m, nn.Linear):\n",
    "            # initialize the weight tensor, here we use a normal distribution\n",
    "            m.weight.data.normal_(0, 1)"
   ]
  },
  {
   "cell_type": "code",
   "execution_count": 41,
   "id": "a1c5998f",
   "metadata": {},
   "outputs": [],
   "source": [
    "N = 4 # square matrices only!\n",
    "model = Net(N)\n",
    "#loss_func = nn.MSELoss(reduction='mean')\n",
    "loss_func = nn.MSELoss()"
   ]
  },
  {
   "cell_type": "code",
   "execution_count": 42,
   "id": "6a763265",
   "metadata": {},
   "outputs": [],
   "source": [
    "optimizer = optim.Adam(model.parameters(), lr=0.0001, weight_decay=1e-5)"
   ]
  },
  {
   "cell_type": "code",
   "execution_count": 43,
   "id": "179f8cf5",
   "metadata": {},
   "outputs": [
    {
     "name": "stdout",
     "output_type": "stream",
     "text": [
      "-2.4999957501328582 2.499998217033419\n"
     ]
    }
   ],
   "source": [
    "# Specify training data\n",
    "#weights_init(model) \n",
    "training_size = 100000\n",
    "\n",
    "max_val = 2.5\n",
    "#X = np.random.randint(-5, 5, size=(training_size, N, N))\n",
    "X = (np.random.rand(training_size, N, N)-0.5) * 2* 2.5\n",
    "min_X = np.min(X)\n",
    "max_X = np.max(X)\n",
    "print(min_X, max_X)\n",
    "\n",
    "# Get all data between -1 and 1\n",
    "X = X/abs(max_X-min_X)\n",
    "Y = np.linalg.det(X)"
   ]
  },
  {
   "cell_type": "code",
   "execution_count": null,
   "id": "f32cee1f",
   "metadata": {},
   "outputs": [
    {
     "name": "stdout",
     "output_type": "stream",
     "text": [
      "Epoch: 0, Loss: 0.0003826708416454494, \n",
      "Epoch: 1, Loss: 0.00038578116800636053, \n",
      "Epoch: 2, Loss: 0.0003881795273628086, \n",
      "Epoch: 3, Loss: 0.00039194972487166524, \n",
      "Epoch: 4, Loss: 0.000394556118408218, \n",
      "Epoch: 5, Loss: 0.00039573258254677057, \n",
      "Epoch: 6, Loss: 0.0003942964831367135, \n",
      "Epoch: 7, Loss: 0.000389164692023769, \n",
      "Epoch: 8, Loss: 0.00038555945502594113, \n",
      "Epoch: 9, Loss: 0.0003738387313205749, \n",
      "Epoch: 10, Loss: 0.00037618575152009726, \n",
      "Epoch: 11, Loss: 0.0003753187775146216, \n",
      "Epoch: 12, Loss: 0.00037962832720950246, \n",
      "Epoch: 13, Loss: 0.0003756730002351105, \n",
      "Epoch: 14, Loss: 0.0003676509659271687, \n",
      "Epoch: 15, Loss: 0.0003594807058107108, \n",
      "Epoch: 16, Loss: 0.00035420863423496485, \n",
      "Epoch: 17, Loss: 0.0003470347437541932, \n",
      "Epoch: 18, Loss: 0.0003386999887879938, \n",
      "Epoch: 19, Loss: 0.0003320043033454567, \n",
      "Epoch: 20, Loss: 0.0003268476575613022, \n",
      "Epoch: 21, Loss: 0.00032594811636954546, \n",
      "Epoch: 22, Loss: 0.0003183815279044211, \n",
      "Epoch: 23, Loss: 0.00031993549782782793, \n",
      "Epoch: 24, Loss: 0.0003202133229933679, \n",
      "Epoch: 25, Loss: 0.00031678337836638093, \n",
      "Epoch: 26, Loss: 0.0003158141626045108, \n",
      "Epoch: 27, Loss: 0.0003214698808733374, \n",
      "Epoch: 28, Loss: 0.00032434164313599467, \n",
      "Epoch: 29, Loss: 0.0003327176673337817, \n",
      "Epoch: 30, Loss: 0.00032394385198131204, \n",
      "Epoch: 31, Loss: 0.0003260402590967715, \n",
      "Epoch: 32, Loss: 0.00032360217301175, \n",
      "Epoch: 33, Loss: 0.00032019102945923805, \n",
      "Epoch: 34, Loss: 0.00031669996678829193, \n",
      "Epoch: 35, Loss: 0.00031498121097683907, \n",
      "Epoch: 36, Loss: 0.0003093620471190661, \n",
      "Epoch: 37, Loss: 0.00030970384250395, \n",
      "Epoch: 38, Loss: 0.000302803615340963, \n",
      "Epoch: 39, Loss: 0.0003040418087039143, \n",
      "Epoch: 40, Loss: 0.0003040644805878401, \n",
      "Epoch: 41, Loss: 0.0003043617762159556, \n",
      "Epoch: 42, Loss: 0.0003086875658482313, \n",
      "Epoch: 43, Loss: 0.0003149618278257549, \n",
      "Epoch: 44, Loss: 0.000314096687361598, \n"
     ]
    }
   ],
   "source": [
    "B = 32\n",
    "#assert training_size%B == 0\n",
    "\n",
    "losses = []\n",
    "epochs = 100\n",
    "for i in range(epochs):\n",
    "    for j in range(training_size//B):\n",
    "        x_var = X[j*B:(j+1)*B]\n",
    "        y_var = Y[j*B:(j+1)*B]\n",
    "        assert x_var.shape == (B,N,N)\n",
    "        assert y_var.shape == (B,)\n",
    "        x_var = t.Tensor(x_var)\n",
    "        y_var = t.Tensor(y_var)\n",
    "        \n",
    "        optimizer.zero_grad()\n",
    "        y_hat = model(x_var)\n",
    "        loss = loss_func.forward(y_hat, y_var)\n",
    "        loss.backward()\n",
    "        optimizer.step()\n",
    "        if j % 100 == 0:\n",
    "            losses.append(float(loss))\n",
    "\n",
    "        \n",
    "    if i % 1 == 0:\n",
    "        print(\"Epoch: {0}, Loss: {1}, \".format(i, loss.data.numpy()))"
   ]
  },
  {
   "cell_type": "code",
   "execution_count": null,
   "id": "15b726c6",
   "metadata": {},
   "outputs": [],
   "source": [
    "plt.plot(losses)"
   ]
  },
  {
   "cell_type": "code",
   "execution_count": null,
   "id": "37d7ecbe",
   "metadata": {},
   "outputs": [],
   "source": [
    "mean_losses = [sum(losses[i:i+100])/100 for i in range(len(losses)-100)]\n",
    "zero_line = [0]*(len(losses)-100)\n",
    "plt.plot(mean_losses)\n",
    "plt.plot(zero_line)\n",
    "print(min(mean_losses))"
   ]
  },
  {
   "cell_type": "code",
   "execution_count": null,
   "id": "1c4a4ad7",
   "metadata": {},
   "outputs": [],
   "source": []
  },
  {
   "cell_type": "code",
   "execution_count": null,
   "id": "d213f24c",
   "metadata": {},
   "outputs": [],
   "source": [
    "import time\n",
    "# Generate test set\n",
    "testing_size = 10000\n",
    "\n",
    "max_val = 2.5\n",
    "X = (np.random.rand(testing_size, N, N)-0.5) * 2* 2.5\n",
    "min_X = np.min(X)\n",
    "max_X = np.max(X)\n",
    "print(min_X, max_X)\n",
    "\n",
    "# Get all data between -1 and 1\n",
    "X = X/(max_X-min_X)\n",
    "npTbeg = time.perf_counter()\n",
    "Y = np.linalg.det(X)\n",
    "npTend = time.perf_counter()\n",
    "\n",
    "error = [0]*testing_size # prediction error\n",
    "\n",
    "y_var = t.Tensor(Y)\n",
    "x_var = t.Tensor(X)\n",
    "\n",
    "mlTbeg = time.perf_counter()\n",
    "y_hat = model(x_var)\n",
    "mlTend = time.perf_counter()\n",
    "error = (y_hat - y_var)**2\n",
    "    \n",
    "tot_error = sum(error)\n",
    "print(\"Total MSE over testing set : \", np.sqrt(tot_error.data.numpy())/testing_size)\n",
    "\n",
    "print(\"Time for numpy to solve : \", npTend-npTbeg)\n",
    "print(\"Time for NN to solve : \", mlTend-mlTbeg)"
   ]
  },
  {
   "cell_type": "code",
   "execution_count": null,
   "id": "e0a85a97",
   "metadata": {},
   "outputs": [],
   "source": []
  },
  {
   "cell_type": "code",
   "execution_count": null,
   "id": "04a6e6c2",
   "metadata": {},
   "outputs": [],
   "source": []
  }
 ],
 "metadata": {
  "kernelspec": {
   "display_name": "Python 3",
   "language": "python",
   "name": "python3"
  },
  "language_info": {
   "codemirror_mode": {
    "name": "ipython",
    "version": 3
   },
   "file_extension": ".py",
   "mimetype": "text/x-python",
   "name": "python",
   "nbconvert_exporter": "python",
   "pygments_lexer": "ipython3",
   "version": "3.8.8"
  }
 },
 "nbformat": 4,
 "nbformat_minor": 5
}
