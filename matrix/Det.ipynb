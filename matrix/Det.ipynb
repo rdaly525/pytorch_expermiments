{
 "cells": [
  {
   "cell_type": "code",
   "execution_count": 2,
   "id": "188cfaa7",
   "metadata": {},
   "outputs": [],
   "source": [
    "import torch as t\n",
    "import torch.nn as nn\n",
    "import torch.optim as optim\n",
    "import numpy as np\n",
    "import matplotlib.pyplot as plt"
   ]
  },
  {
   "cell_type": "code",
   "execution_count": 3,
   "id": "9dca29c2",
   "metadata": {},
   "outputs": [],
   "source": [
    "class Net(nn.Module):\n",
    "    def __init__(self, N):\n",
    "        super(Net, self).__init__()\n",
    "        self.N = N\n",
    "        self.fc1 = nn.Linear(N*N, 16)\n",
    "        self.relu1 = nn.ReLU()\n",
    "        self.fc2 = nn.Linear(16, 32)\n",
    "        self.relu2 = nn.ReLU()\n",
    "        self.fc3 = nn.Linear(32, 64)\n",
    "        self.relu3 = nn.ReLU()\n",
    "        self.fc4 = nn.Linear(64, 1)\n",
    "        \n",
    "        \n",
    "    def forward(self, x: \"(B, N, N)\"):\n",
    "        B = x.shape[0]\n",
    "        x = x.reshape(B, self.N**2)\n",
    "        assert x.shape == (B, self.N**2)\n",
    "        x = self.fc1(x)\n",
    "        x = self.relu1(x)\n",
    "        x = self.fc2(x)\n",
    "        x = self.relu2(x)\n",
    "        x = self.fc3(x)\n",
    "        x = self.relu3(x)\n",
    "        x = self.fc4(x)\n",
    "        assert x.shape == (B, 1)\n",
    "        return x[:,0]"
   ]
  },
  {
   "cell_type": "code",
   "execution_count": 4,
   "id": "d64984f6",
   "metadata": {},
   "outputs": [],
   "source": [
    "def weights_init(model):\n",
    "    for m in model.modules():\n",
    "        if isinstance(m, nn.Linear):\n",
    "            # initialize the weight tensor, here we use a normal distribution\n",
    "            m.weight.data.normal_(0, 1)"
   ]
  },
  {
   "cell_type": "code",
   "execution_count": 5,
   "id": "a1c5998f",
   "metadata": {},
   "outputs": [],
   "source": [
    "N = 3\n",
    "model = Net(N)\n",
    "loss_func = nn.MSELoss(reduction='mean')"
   ]
  },
  {
   "cell_type": "code",
   "execution_count": 6,
   "id": "6a763265",
   "metadata": {},
   "outputs": [],
   "source": [
    "optimizer = optim.Adam(model.parameters(), lr=0.003)"
   ]
  },
  {
   "cell_type": "code",
   "execution_count": null,
   "id": "f32cee1f",
   "metadata": {},
   "outputs": [
    {
     "name": "stdout",
     "output_type": "stream",
     "text": [
      "-2.499986456515548 2.4999873259936174\n",
      "Epoch: 0, Loss: 0.0030738799832761288, \n",
      "Epoch: 1, Loss: 0.003085360862314701, \n",
      "Epoch: 2, Loss: 0.0031089852564036846, \n",
      "Epoch: 3, Loss: 0.002713823691010475, \n",
      "Epoch: 4, Loss: 0.002268809825181961, \n",
      "Epoch: 5, Loss: 0.0006507025100290775, \n",
      "Epoch: 6, Loss: 0.0014632954262197018, \n",
      "Epoch: 7, Loss: 0.001343066687695682, \n",
      "Epoch: 8, Loss: 0.0010018242755904794, \n",
      "Epoch: 9, Loss: 0.0007059299969114363, \n",
      "Epoch: 10, Loss: 0.0005487733869813383, \n",
      "Epoch: 11, Loss: 0.0005480416584759951, \n",
      "Epoch: 12, Loss: 0.0006044305046088994, \n",
      "Epoch: 13, Loss: 0.0006160910706967115, \n",
      "Epoch: 14, Loss: 0.00046536262379959226, \n",
      "Epoch: 15, Loss: 0.0006325002177618444, \n",
      "Epoch: 16, Loss: 0.0005031722248531878, \n",
      "Epoch: 17, Loss: 0.00045184101327322423, \n",
      "Epoch: 18, Loss: 0.0005256326985545456, \n",
      "Epoch: 19, Loss: 0.0005680961185134947, \n",
      "Epoch: 20, Loss: 0.0003752374614123255, \n",
      "Epoch: 21, Loss: 0.00026556060765869915, \n",
      "Epoch: 22, Loss: 0.00042508001206442714, \n",
      "Epoch: 23, Loss: 0.00034989946288987994, \n",
      "Epoch: 24, Loss: 0.00035664060851559043, \n",
      "Epoch: 25, Loss: 0.00037604739191010594, \n",
      "Epoch: 26, Loss: 0.00036743746022693813, \n",
      "Epoch: 27, Loss: 0.0004086877452209592, \n",
      "Epoch: 28, Loss: 0.0004144180566072464, \n",
      "Epoch: 29, Loss: 0.00034949046676047146, \n",
      "Epoch: 30, Loss: 0.00039225848740898073, \n",
      "Epoch: 31, Loss: 0.0003388452751096338, \n",
      "Epoch: 32, Loss: 0.0004150907334405929, \n",
      "Epoch: 33, Loss: 0.00035489696892909706, \n",
      "Epoch: 34, Loss: 0.0003196992038283497, \n",
      "Epoch: 35, Loss: 0.00031682918779551983, \n",
      "Epoch: 36, Loss: 0.0003467465576250106, \n",
      "Epoch: 37, Loss: 0.0003727313596755266, \n"
     ]
    }
   ],
   "source": [
    "#weights_init(model)\n",
    "training_size = 50000\n",
    "\n",
    "max_val = 2.5\n",
    "#X = np.random.randint(-5, 5, size=(training_size, N, N))\n",
    "X = (np.random.rand(training_size, N, N)-0.5) * 2* 2.5\n",
    "min_X = np.min(X)\n",
    "max_X = np.max(X)\n",
    "print(min_X, max_X)\n",
    "\n",
    "# Get all data between -1 and 1\n",
    "X = X/abs(max_X-min_X)\n",
    "\n",
    "Y = np.linalg.det(X)\n",
    "B = 16\n",
    "assert training_size%B == 0\n",
    "\n",
    "losses = []\n",
    "epochs = 100\n",
    "for i in range(epochs):\n",
    "    for j in range(training_size//B):\n",
    "        x_var = X[j*B:(j+1)*B]\n",
    "        y_var = Y[j*B:(j+1)*B]\n",
    "        assert x_var.shape == (B,N,N)\n",
    "        assert y_var.shape == (B,)\n",
    "        x_var = t.Tensor(x_var)\n",
    "        y_var = t.Tensor(y_var)\n",
    "        \n",
    "        optimizer.zero_grad()\n",
    "        y_hat = model(x_var)\n",
    "        loss = loss_func.forward(y_hat, y_var)\n",
    "        loss.backward()\n",
    "        optimizer.step()\n",
    "        losses.append(float(loss))\n",
    "\n",
    "        \n",
    "    if i % 1 == 0:\n",
    "        print(\"Epoch: {0}, Loss: {1}, \".format(i, loss.data.numpy()))"
   ]
  },
  {
   "cell_type": "code",
   "execution_count": 9,
   "id": "15b726c6",
   "metadata": {},
   "outputs": [
    {
     "data": {
      "text/plain": [
       "[<matplotlib.lines.Line2D at 0x7f8368e7de50>]"
      ]
     },
     "execution_count": 9,
     "metadata": {},
     "output_type": "execute_result"
    },
    {
     "data": {
      "image/png": "[encoded data removed]",
      "text/plain": [
       "<Figure size 432x288 with 1 Axes>"
      ]
     },
     "metadata": {
      "needs_background": "light"
     },
     "output_type": "display_data"
    }
   ],
   "source": [
    "plt.plot(losses)"
   ]
  },
  {
   "cell_type": "code",
   "execution_count": 15,
   "id": "37d7ecbe",
   "metadata": {},
   "outputs": [
    {
     "name": "stdout",
     "output_type": "stream",
     "text": [
      "1.8550056809186934\n"
     ]
    },
    {
     "data": {
      "image/png": "[encoded data removed]",
      "text/plain": [
       "<Figure size 432x288 with 1 Axes>"
      ]
     },
     "metadata": {
      "needs_background": "light"
     },
     "output_type": "display_data"
    }
   ],
   "source": [
    "mean_losses = [sum(losses[i:i+100])/100 for i in range(len(losses)-100)]\n",
    "\n",
    "plt.plot(mean_losses)\n",
    "\n",
    "print(min(mean_losses))"
   ]
  }
 ],
 "metadata": {
  "kernelspec": {
   "display_name": "Python 3",
   "language": "python",
   "name": "python3"
  },
  "language_info": {
   "codemirror_mode": {
    "name": "ipython",
    "version": 3
   },
   "file_extension": ".py",
   "mimetype": "text/x-python",
   "name": "python",
   "nbconvert_exporter": "python",
   "pygments_lexer": "ipython3",
   "version": "3.8.8"
  }
 },
 "nbformat": 4,
 "nbformat_minor": 5
}
